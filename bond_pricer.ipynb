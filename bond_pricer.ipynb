{
 "cells": [
  {
   "cell_type": "code",
   "execution_count": 1,
   "metadata": {},
   "outputs": [],
   "source": [
    "#Setting up our fixed bond class\n",
    "import time\n",
    "import datetime\n",
    "from dateutil.relativedelta import relativedelta\n",
    "import pandas as pd\n",
    "import numpy as np\n",
    "\n",
    "class fixed_bond:\n",
    "\n",
    "\tdef __init__(self,issue_date,settlement_date,maturity_date,coupon_rate,reoffer_yield,coupon_frequency):\n",
    "\t\t#setting initial attributes for the fixed bond class\n",
    "\t\tself.issue_date = issue_date\n",
    "\t\tself.settlement_date = settlement_date\n",
    "\t\tself.maturity_date = maturity_date\n",
    "\t\tself.coupon_rate = coupon_rate\n",
    "\t\tself.reoffer_yield = reoffer_yield\n",
    "\t\tself.coupon_frequency = coupon_frequency\n",
    "\n",
    "\t\t# computing future cash flow dates\n",
    "\t\tif self.coupon_frequency == \"annual\":\n",
    "\t\t\tcoupon_frequency_modifier = 1\n",
    "\t\telif self.coupon_frequency == \"semi-annual\":\n",
    "\t\t\tcoupon_frequency_modifier = 2\n",
    "\t\telse:\n",
    "\t\t\tcoupon_frequency_modifier = 4\n",
    "\t\t\n",
    "\t\ttime_modifier = int(12/coupon_frequency_modifier)\n",
    "\t\tcash_flow_date = settlement_date + relativedelta(months=time_modifier)\n",
    "\t\tcash_flow_dates = [cash_flow_date]\n",
    "\t\tself.number_of_periods = 1\n",
    "\n",
    "\t\twhile cash_flow_date < maturity_date:\n",
    "\n",
    "\t\t\tcash_flow_date += relativedelta(months=time_modifier)\n",
    "\t\t\tcash_flow_dates.append(cash_flow_date)\n",
    "\t\t\tself.number_of_periods += 1\n",
    "\n",
    "\t\tself.cash_flow_dates = cash_flow_dates\n",
    "\n",
    "\t\t#computing cash flow periods\n",
    "\t\tcash_flow_periods = []\n",
    "\t\tfor i in range(self.number_of_periods):\n",
    "\t\t\tcash_flow_periods.append(i + 1)\n",
    "\t\tself.cash_flow_periods = cash_flow_periods\n",
    "\n",
    "\t\t# computing future cash flows per date (in base 100 and assuming 100% redemption rate)\n",
    "\t\tcoupon_payment = ((coupon_rate/coupon_frequency_modifier)/100) * 100\n",
    "\t\tcash_flow_amounts = []\n",
    "\t\tfor i in range(self.number_of_periods):\n",
    "\t\t\tif i == self.number_of_periods - 1:\n",
    "\t\t\t\tcash_flow = 100 + coupon_payment\n",
    "\t\t\telse:\n",
    "\t\t\t\tcash_flow = coupon_payment\n",
    "\n",
    "\t\t\tcash_flow_amounts.append(cash_flow)\n",
    "\t\tself.cash_flow_amounts = cash_flow_amounts\n",
    "\n",
    "\n",
    "\t\t# computing discount rate\n",
    "\t\tself.discount_rate = ((self.reoffer_yield/coupon_frequency_modifier)/100) + 1\n",
    "\t\tdiscount_rates = []\n",
    "\t\tfor i in range(self.number_of_periods):\n",
    "\t\t\tdiscount_rates.append(self.discount_rate)\n",
    "\t\tself.discount_rates = discount_rates\n",
    "\n",
    "\t\t#genrating a cash flow table and calculating reoffer cash price\n",
    "\t\tdf = pd.DataFrame(np.column_stack([self.cash_flow_dates, self.cash_flow_periods, discount_rates,self.cash_flow_amounts]), \n",
    "                               columns=['coupon_date', 'discount_period', 'discount_rate', 'cash_flow'])\n",
    "\t\tdf['npv'] = (df.cash_flow / (df.discount_rate**df.discount_period))\n",
    "\n",
    "\t\tself.cash_flow_table = df\n",
    "\t\tself.reoffer_price = self.cash_flow_table.npv.sum()\n"
   ]
  },
  {
   "cell_type": "code",
   "execution_count": 2,
   "metadata": {},
   "outputs": [
    {
     "name": "stdout",
     "output_type": "stream",
     "text": [
      "  coupon_date discount_period discount_rate cash_flow      npv\n",
      "0  2019-01-01               1       1.05125         5  4.75624\n",
      "1  2020-01-01               2       1.05125         5  4.52437\n",
      "2  2021-01-01               3       1.05125         5   4.3038\n",
      "3  2022-01-01               4       1.05125         5  4.09398\n",
      "4  2023-01-01               5       1.05125       105  81.7823\n",
      "Reoffer cash price is: 99.461%\n"
     ]
    }
   ],
   "source": [
    "issue_date = datetime.date(2018,1,1)\n",
    "settlement_date = datetime.date(2018,1,1)\n",
    "maturity_date = datetime.date(2023,1,1)\n",
    "coupon_rate = 5\n",
    "reoffer_yield = 5.125\n",
    "coupon_frequency = \"annual\"\n",
    "\n",
    "test_bond = fixed_bond(issue_date,settlement_date,maturity_date,coupon_rate,reoffer_yield,coupon_frequency)\n",
    "\n",
    "print(test_bond.cash_flow_table)\n",
    "print(f\"Reoffer cash price is: {round(test_bond.reoffer_price,3)}%\")"
   ]
  },
  {
   "cell_type": "code",
   "execution_count": null,
   "metadata": {},
   "outputs": [],
   "source": []
  },
  {
   "cell_type": "code",
   "execution_count": null,
   "metadata": {},
   "outputs": [],
   "source": []
  },
  {
   "cell_type": "code",
   "execution_count": null,
   "metadata": {},
   "outputs": [],
   "source": []
  },
  {
   "cell_type": "code",
   "execution_count": null,
   "metadata": {},
   "outputs": [],
   "source": []
  }
 ],
 "metadata": {
  "kernelspec": {
   "display_name": "Python 3",
   "language": "python",
   "name": "python3"
  },
  "language_info": {
   "codemirror_mode": {
    "name": "ipython",
    "version": 3
   },
   "file_extension": ".py",
   "mimetype": "text/x-python",
   "name": "python",
   "nbconvert_exporter": "python",
   "pygments_lexer": "ipython3",
   "version": "3.7.0"
  }
 },
 "nbformat": 4,
 "nbformat_minor": 2
}
